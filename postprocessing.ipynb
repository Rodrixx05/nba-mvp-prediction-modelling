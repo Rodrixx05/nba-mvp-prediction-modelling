{
 "cells": [
  {
   "cell_type": "code",
   "execution_count": 1,
   "metadata": {},
   "outputs": [],
   "source": [
    "import preprocessing_lib_rodrixx as prep\n",
    "import postprocessing_lib_rodrixx as post\n",
    "\n",
    "import pandas as pd\n",
    "import numpy as np\n",
    "\n",
    "import os\n",
    "\n",
    "from sklearn.pipeline import Pipeline\n",
    "\n",
    "import warnings\n",
    "warnings.filterwarnings('ignore')\n",
    "\n",
    "import mlflow"
   ]
  },
  {
   "cell_type": "code",
   "execution_count": 2,
   "metadata": {},
   "outputs": [],
   "source": [
    "dataframes_path = os.path.join(os.getcwd(), 'dataframes')"
   ]
  },
  {
   "cell_type": "code",
   "execution_count": 3,
   "metadata": {},
   "outputs": [],
   "source": [
    "df_2022 = pd.read_pickle(os.path.join(dataframes_path, 'stats_2022.pkl'))\n",
    "df_total = pd.read_pickle(os.path.join(dataframes_path, 'stats_1980_to_2021.pkl'))"
   ]
  },
  {
   "cell_type": "code",
   "execution_count": 4,
   "metadata": {},
   "outputs": [
    {
     "data": {
      "text/plain": [
       "16.666666666666668"
      ]
     },
     "execution_count": 4,
     "metadata": {},
     "output_type": "execute_result"
    }
   ],
   "source": [
    "# Average number of MVP contenders from 1980 to 2021\n",
    "df_total[df_total['Share'] > 0].groupby('Season')['Season'].count().mean()"
   ]
  },
  {
   "cell_type": "code",
   "execution_count": 5,
   "metadata": {},
   "outputs": [
    {
     "data": {
      "text/plain": [
       "2.60170731707317"
      ]
     },
     "execution_count": 5,
     "metadata": {},
     "output_type": "execute_result"
    }
   ],
   "source": [
    "df_total[(df_total['Share'] > 0) & (df_total['Season'] != 1980)].groupby('Season')['Share'].sum().mean()"
   ]
  },
  {
   "cell_type": "code",
   "execution_count": 6,
   "metadata": {},
   "outputs": [
    {
     "data": {
      "text/plain": [
       "Season\n",
       "2018    1010\n",
       "2019    1010\n",
       "2020    1010\n",
       "2021    1010\n",
       "Name: MaxVotes, dtype: int32"
      ]
     },
     "execution_count": 6,
     "metadata": {},
     "output_type": "execute_result"
    }
   ],
   "source": [
    "df_total[(df_total['Share'] > 0) & (df_total['Season'] > 2017)].groupby('Season')['MaxVotes'].mean()"
   ]
  },
  {
   "cell_type": "code",
   "execution_count": 7,
   "metadata": {},
   "outputs": [],
   "source": [
    "cols_to_drop = ['Rk', 'GT', 'FG_tot', '3PA_tot', '2PA_tot', 'FGA_rank_tot', 'Tm', 'Pos']\n",
    "cols_to_filter = ['PER', 'WS/48', 'BPM', 'USG%']\n",
    "cols_to_ohe = ['Pos', 'Tm']"
   ]
  },
  {
   "cell_type": "code",
   "execution_count": 8,
   "metadata": {},
   "outputs": [],
   "source": [
    "# Pipeline for Dataframe preprocessing, in the format the model expects\n",
    "pipe_clean = Pipeline(steps = [\n",
    "    ('DropPlayersMultiTeams', prep.DropPlayersMultiTeams()),\n",
    "    ('OutlierFilter', prep.OutlierFilter(q = .0005, col_to_filter = cols_to_filter)),\n",
    "    ('SetIndex', prep.SetIndex()),\n",
    "    ('DropColumns', prep.DropColumns(cols_to_drop)),\n",
    "    ('DropPlayers', prep.DropPlayers()),\n",
    "])"
   ]
  },
  {
   "cell_type": "code",
   "execution_count": 9,
   "metadata": {},
   "outputs": [],
   "source": [
    "df_2022 = pipe_clean.fit_transform(df_2022)"
   ]
  },
  {
   "cell_type": "code",
   "execution_count": 10,
   "metadata": {},
   "outputs": [],
   "source": [
    "logged_model = 'runs:/713eebe2475b41048ab8b75030057f58/model'\n",
    "\n",
    "model = mlflow.pyfunc.load_model(logged_model)"
   ]
  },
  {
   "cell_type": "code",
   "execution_count": 11,
   "metadata": {},
   "outputs": [],
   "source": [
    "prediction = model.predict(df_2022)\n"
   ]
  },
  {
   "cell_type": "code",
   "execution_count": 12,
   "metadata": {},
   "outputs": [],
   "source": [
    "df_results = post.get_processed_prediction(pd.Series(prediction, index = df_2022.index, name = 'PredShare'), pipe_clean['DropPlayers'].players_list_, num_contenders = 13)"
   ]
  },
  {
   "cell_type": "code",
   "execution_count": 13,
   "metadata": {},
   "outputs": [
    {
     "data": {
      "text/html": [
       "<div>\n",
       "<style scoped>\n",
       "    .dataframe tbody tr th:only-of-type {\n",
       "        vertical-align: middle;\n",
       "    }\n",
       "\n",
       "    .dataframe tbody tr th {\n",
       "        vertical-align: top;\n",
       "    }\n",
       "\n",
       "    .dataframe thead th {\n",
       "        text-align: right;\n",
       "    }\n",
       "</style>\n",
       "<table border=\"1\" class=\"dataframe\">\n",
       "  <thead>\n",
       "    <tr style=\"text-align: right;\">\n",
       "      <th></th>\n",
       "      <th></th>\n",
       "      <th>Player</th>\n",
       "      <th>PredShare</th>\n",
       "      <th>PredShare_Adj</th>\n",
       "      <th>PredVotes</th>\n",
       "      <th>PredRank</th>\n",
       "    </tr>\n",
       "    <tr>\n",
       "      <th>Rk</th>\n",
       "      <th>Season</th>\n",
       "      <th></th>\n",
       "      <th></th>\n",
       "      <th></th>\n",
       "      <th></th>\n",
       "      <th></th>\n",
       "    </tr>\n",
       "  </thead>\n",
       "  <tbody>\n",
       "    <tr>\n",
       "      <th>290</th>\n",
       "      <th>2022</th>\n",
       "      <td>Nikola Jokić</td>\n",
       "      <td>0.558789</td>\n",
       "      <td>0.569</td>\n",
       "      <td>575</td>\n",
       "      <td>1</td>\n",
       "    </tr>\n",
       "    <tr>\n",
       "      <th>12</th>\n",
       "      <th>2022</th>\n",
       "      <td>Giannis Antetokounmpo</td>\n",
       "      <td>0.371695</td>\n",
       "      <td>0.378</td>\n",
       "      <td>382</td>\n",
       "      <td>2</td>\n",
       "    </tr>\n",
       "    <tr>\n",
       "      <th>162</th>\n",
       "      <th>2022</th>\n",
       "      <td>Joel Embiid</td>\n",
       "      <td>0.355384</td>\n",
       "      <td>0.361</td>\n",
       "      <td>365</td>\n",
       "      <td>3</td>\n",
       "    </tr>\n",
       "    <tr>\n",
       "      <th>141</th>\n",
       "      <th>2022</th>\n",
       "      <td>Luka Dončić</td>\n",
       "      <td>0.351305</td>\n",
       "      <td>0.357</td>\n",
       "      <td>361</td>\n",
       "      <td>4</td>\n",
       "    </tr>\n",
       "    <tr>\n",
       "      <th>602</th>\n",
       "      <th>2022</th>\n",
       "      <td>Trae Young</td>\n",
       "      <td>0.181908</td>\n",
       "      <td>0.185</td>\n",
       "      <td>187</td>\n",
       "      <td>5</td>\n",
       "    </tr>\n",
       "    <tr>\n",
       "      <th>390</th>\n",
       "      <th>2022</th>\n",
       "      <td>Ja Morant</td>\n",
       "      <td>0.134281</td>\n",
       "      <td>0.137</td>\n",
       "      <td>138</td>\n",
       "      <td>6</td>\n",
       "    </tr>\n",
       "    <tr>\n",
       "      <th>526</th>\n",
       "      <th>2022</th>\n",
       "      <td>Jayson Tatum</td>\n",
       "      <td>0.131112</td>\n",
       "      <td>0.134</td>\n",
       "      <td>135</td>\n",
       "      <td>7</td>\n",
       "    </tr>\n",
       "    <tr>\n",
       "      <th>274</th>\n",
       "      <th>2022</th>\n",
       "      <td>LeBron James</td>\n",
       "      <td>0.107958</td>\n",
       "      <td>0.110</td>\n",
       "      <td>111</td>\n",
       "      <td>8</td>\n",
       "    </tr>\n",
       "    <tr>\n",
       "      <th>195</th>\n",
       "      <th>2022</th>\n",
       "      <td>Rudy Gobert</td>\n",
       "      <td>0.091816</td>\n",
       "      <td>0.093</td>\n",
       "      <td>94</td>\n",
       "      <td>9</td>\n",
       "    </tr>\n",
       "    <tr>\n",
       "      <th>59</th>\n",
       "      <th>2022</th>\n",
       "      <td>Devin Booker</td>\n",
       "      <td>0.082172</td>\n",
       "      <td>0.083</td>\n",
       "      <td>84</td>\n",
       "      <td>10</td>\n",
       "    </tr>\n",
       "    <tr>\n",
       "      <th>134</th>\n",
       "      <th>2022</th>\n",
       "      <td>DeMar DeRozan</td>\n",
       "      <td>0.072663</td>\n",
       "      <td>0.074</td>\n",
       "      <td>75</td>\n",
       "      <td>11</td>\n",
       "    </tr>\n",
       "    <tr>\n",
       "      <th>154</th>\n",
       "      <th>2022</th>\n",
       "      <td>Kevin Durant</td>\n",
       "      <td>0.063826</td>\n",
       "      <td>0.065</td>\n",
       "      <td>66</td>\n",
       "      <td>12</td>\n",
       "    </tr>\n",
       "    <tr>\n",
       "      <th>546</th>\n",
       "      <th>2022</th>\n",
       "      <td>Karl-Anthony Towns</td>\n",
       "      <td>0.050932</td>\n",
       "      <td>0.051</td>\n",
       "      <td>52</td>\n",
       "      <td>13</td>\n",
       "    </tr>\n",
       "    <tr>\n",
       "      <th>446</th>\n",
       "      <th>2022</th>\n",
       "      <td>Mason Plumlee</td>\n",
       "      <td>0.050412</td>\n",
       "      <td>0.000</td>\n",
       "      <td>0</td>\n",
       "      <td>14</td>\n",
       "    </tr>\n",
       "    <tr>\n",
       "      <th>22</th>\n",
       "      <th>2022</th>\n",
       "      <td>Deandre Ayton</td>\n",
       "      <td>0.040120</td>\n",
       "      <td>0.000</td>\n",
       "      <td>0</td>\n",
       "      <td>15</td>\n",
       "    </tr>\n",
       "    <tr>\n",
       "      <th>87</th>\n",
       "      <th>2022</th>\n",
       "      <td>Jimmy Butler</td>\n",
       "      <td>0.035364</td>\n",
       "      <td>0.000</td>\n",
       "      <td>0</td>\n",
       "      <td>16</td>\n",
       "    </tr>\n",
       "    <tr>\n",
       "      <th>447</th>\n",
       "      <th>2022</th>\n",
       "      <td>Jakob Poeltl</td>\n",
       "      <td>0.032895</td>\n",
       "      <td>0.000</td>\n",
       "      <td>0</td>\n",
       "      <td>17</td>\n",
       "    </tr>\n",
       "    <tr>\n",
       "      <th>589</th>\n",
       "      <th>2022</th>\n",
       "      <td>Robert Williams</td>\n",
       "      <td>0.031825</td>\n",
       "      <td>0.000</td>\n",
       "      <td>0</td>\n",
       "      <td>18</td>\n",
       "    </tr>\n",
       "    <tr>\n",
       "      <th>400</th>\n",
       "      <th>2022</th>\n",
       "      <td>Dejounte Murray</td>\n",
       "      <td>0.029629</td>\n",
       "      <td>0.000</td>\n",
       "      <td>0</td>\n",
       "      <td>19</td>\n",
       "    </tr>\n",
       "    <tr>\n",
       "      <th>501</th>\n",
       "      <th>2022</th>\n",
       "      <td>Pascal Siakam</td>\n",
       "      <td>0.028187</td>\n",
       "      <td>0.000</td>\n",
       "      <td>0</td>\n",
       "      <td>20</td>\n",
       "    </tr>\n",
       "  </tbody>\n",
       "</table>\n",
       "</div>"
      ],
      "text/plain": [
       "                           Player  PredShare  PredShare_Adj  PredVotes  \\\n",
       "Rk  Season                                                               \n",
       "290 2022             Nikola Jokić   0.558789          0.569        575   \n",
       "12  2022    Giannis Antetokounmpo   0.371695          0.378        382   \n",
       "162 2022              Joel Embiid   0.355384          0.361        365   \n",
       "141 2022              Luka Dončić   0.351305          0.357        361   \n",
       "602 2022               Trae Young   0.181908          0.185        187   \n",
       "390 2022                Ja Morant   0.134281          0.137        138   \n",
       "526 2022             Jayson Tatum   0.131112          0.134        135   \n",
       "274 2022             LeBron James   0.107958          0.110        111   \n",
       "195 2022              Rudy Gobert   0.091816          0.093         94   \n",
       "59  2022             Devin Booker   0.082172          0.083         84   \n",
       "134 2022            DeMar DeRozan   0.072663          0.074         75   \n",
       "154 2022             Kevin Durant   0.063826          0.065         66   \n",
       "546 2022       Karl-Anthony Towns   0.050932          0.051         52   \n",
       "446 2022            Mason Plumlee   0.050412          0.000          0   \n",
       "22  2022            Deandre Ayton   0.040120          0.000          0   \n",
       "87  2022             Jimmy Butler   0.035364          0.000          0   \n",
       "447 2022             Jakob Poeltl   0.032895          0.000          0   \n",
       "589 2022          Robert Williams   0.031825          0.000          0   \n",
       "400 2022          Dejounte Murray   0.029629          0.000          0   \n",
       "501 2022            Pascal Siakam   0.028187          0.000          0   \n",
       "\n",
       "            PredRank  \n",
       "Rk  Season            \n",
       "290 2022           1  \n",
       "12  2022           2  \n",
       "162 2022           3  \n",
       "141 2022           4  \n",
       "602 2022           5  \n",
       "390 2022           6  \n",
       "526 2022           7  \n",
       "274 2022           8  \n",
       "195 2022           9  \n",
       "59  2022          10  \n",
       "134 2022          11  \n",
       "154 2022          12  \n",
       "546 2022          13  \n",
       "446 2022          14  \n",
       "22  2022          15  \n",
       "87  2022          16  \n",
       "447 2022          17  \n",
       "589 2022          18  \n",
       "400 2022          19  \n",
       "501 2022          20  "
      ]
     },
     "execution_count": 13,
     "metadata": {},
     "output_type": "execute_result"
    }
   ],
   "source": [
    "df_results.head(20)"
   ]
  }
 ],
 "metadata": {
  "kernelspec": {
   "display_name": "Python 3.8.5 ('base')",
   "language": "python",
   "name": "python3"
  },
  "language_info": {
   "codemirror_mode": {
    "name": "ipython",
    "version": 3
   },
   "file_extension": ".py",
   "mimetype": "text/x-python",
   "name": "python",
   "nbconvert_exporter": "python",
   "pygments_lexer": "ipython3",
   "version": "3.8.5"
  },
  "orig_nbformat": 4,
  "vscode": {
   "interpreter": {
    "hash": "19d1d53a962d236aa061289c2ac16dc8e6d9648c89fe79f459ae9a3493bc67b4"
   }
  }
 },
 "nbformat": 4,
 "nbformat_minor": 2
}
