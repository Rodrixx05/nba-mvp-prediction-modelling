{
 "cells": [
  {
   "cell_type": "code",
   "execution_count": 1,
   "metadata": {},
   "outputs": [],
   "source": [
    "from datetime import datetime, date\n",
    "import os\n",
    "import re\n",
    "import pickle\n",
    "\n",
    "import pandas as pd\n",
    "from sklearn.pipeline import Pipeline\n",
    "import mlflow\n",
    "\n",
    "import utils.postprocessing_lib_rodrixx as post\n",
    "import utils.preprocessing_lib_rodrixx as prep\n",
    "\n",
    "import warnings\n",
    "warnings.filterwarnings('ignore')"
   ]
  },
  {
   "cell_type": "code",
   "execution_count": 2,
   "metadata": {},
   "outputs": [],
   "source": [
    "dfs_path = os.path.join(os.getcwd(), 'dataframes')\n",
    "df = pd.read_pickle(os.path.join(dfs_path, 'stats_1982_to_2022.pkl'))"
   ]
  },
  {
   "cell_type": "code",
   "execution_count": 3,
   "metadata": {},
   "outputs": [],
   "source": [
    "path_rf = 'runs:/ca376189801e48cd905ced1f13f73600/model'\n",
    "path_xgb = 'runs:/f217bfcb4a094f648e661a3400747eaa/model'\n",
    "path_ens = 'runs:/ab01e06711554c1d8e7695357f2d9714/model'"
   ]
  },
  {
   "cell_type": "code",
   "execution_count": 4,
   "metadata": {},
   "outputs": [],
   "source": [
    "model_rf = mlflow.pyfunc.load_model(path_rf)"
   ]
  },
  {
   "cell_type": "code",
   "execution_count": 5,
   "metadata": {},
   "outputs": [],
   "source": [
    "cols_tot = [col for col in df.columns if '_tot' in col]\n",
    "cols_to_drop = ['Rk', 'G', 'GS', 'GT', 'Tm', 'Votes', 'MaxVotes', 'Share']\n",
    "cols_to_drop += cols_tot\n",
    "col_to_ohe = 'Pos'"
   ]
  },
  {
   "cell_type": "code",
   "execution_count": 8,
   "metadata": {},
   "outputs": [],
   "source": [
    "pipe_prep = Pipeline(steps = [\n",
    "    ('DropPlayersMultiTeams', prep.DropPlayersMultiTeams()),\n",
    "    ('SetIndex', prep.SetIndex()),\n",
    "    ('OHE', prep.OHE(col_to_ohe)),\n",
    "    ('DropColumns', prep.DropColumns(cols_to_drop)),\n",
    "    ('DropPlayers', prep.DropPlayers()),\n",
    "])"
   ]
  },
  {
   "cell_type": "code",
   "execution_count": 9,
   "metadata": {},
   "outputs": [],
   "source": [
    "pre_df = pipe_prep.fit_transform(df)"
   ]
  }
 ],
 "metadata": {
  "kernelspec": {
   "display_name": "base",
   "language": "python",
   "name": "python3"
  },
  "language_info": {
   "codemirror_mode": {
    "name": "ipython",
    "version": 3
   },
   "file_extension": ".py",
   "mimetype": "text/x-python",
   "name": "python",
   "nbconvert_exporter": "python",
   "pygments_lexer": "ipython3",
   "version": "3.8.5"
  },
  "orig_nbformat": 4,
  "vscode": {
   "interpreter": {
    "hash": "19d1d53a962d236aa061289c2ac16dc8e6d9648c89fe79f459ae9a3493bc67b4"
   }
  }
 },
 "nbformat": 4,
 "nbformat_minor": 2
}
