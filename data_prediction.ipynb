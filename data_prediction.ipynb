{
  "nbformat": 4,
  "nbformat_minor": 0,
  "metadata": {
    "colab": {
      "provenance": [],
      "authorship_tag": "ABX9TyMwHVJzA/jBHqZjE44te2Sv"
    },
    "kernelspec": {
      "name": "python3",
      "display_name": "Python 3"
    },
    "language_info": {
      "name": "python"
    }
  },
  "cells": [
    {
      "cell_type": "code",
      "source": [
        "from google.colab import drive\n",
        "drive.mount('/content/drive')"
      ],
      "metadata": {
        "colab": {
          "base_uri": "https://localhost:8080/"
        },
        "id": "UjNhDVlXvelv",
        "outputId": "aadbe516-05a1-4bb0-cf87-7b9d8f932600"
      },
      "execution_count": 32,
      "outputs": [
        {
          "output_type": "stream",
          "name": "stdout",
          "text": [
            "Drive already mounted at /content/drive; to attempt to forcibly remount, call drive.mount(\"/content/drive\", force_remount=True).\n"
          ]
        }
      ]
    },
    {
      "cell_type": "code",
      "source": [
        "import os\n",
        "project_folder = '/content/drive/MyDrive/nba-project'\n",
        "os.chdir(project_folder)\n",
        "models_folder = os.path.join(os.getcwd(), 'ml_models_v2')\n",
        "os.getcwd()"
      ],
      "metadata": {
        "colab": {
          "base_uri": "https://localhost:8080/",
          "height": 35
        },
        "id": "d151wVSuvYlx",
        "outputId": "4b19a974-0bdc-444a-ba07-7391c9120282"
      },
      "execution_count": 33,
      "outputs": [
        {
          "output_type": "execute_result",
          "data": {
            "text/plain": [
              "'/content/drive/MyDrive/nba-project'"
            ],
            "application/vnd.google.colaboratory.intrinsic+json": {
              "type": "string"
            }
          },
          "metadata": {},
          "execution_count": 33
        }
      ]
    },
    {
      "cell_type": "code",
      "execution_count": 34,
      "metadata": {
        "id": "CADtSLdhvFUG"
      },
      "outputs": [],
      "source": [
        "from datetime import datetime, date\n",
        "import re\n",
        "import pickle\n",
        "\n",
        "import pandas as pd\n",
        "from sklearn.pipeline import Pipeline\n",
        "from sqlalchemy import create_engine\n",
        "\n",
        "import custom_modules.basketball_reference_rodrixx as brr\n",
        "import custom_modules.postprocessing_lib_rodrixx as post\n",
        "import custom_modules.preprocessing_lib_rodrixx as prep"
      ]
    },
    {
      "cell_type": "code",
      "source": [
        "season = 2025"
      ],
      "metadata": {
        "id": "8qewDGVLvSfg"
      },
      "execution_count": 35,
      "outputs": []
    },
    {
      "cell_type": "code",
      "source": [
        "getter = brr.BasketballReferenceGetter()\n",
        "raw_df = getter.extract_player_stats_multiple(season, mvp = False, advanced = True, ranks = True)"
      ],
      "metadata": {
        "id": "AYngFmrWwY2v"
      },
      "execution_count": 36,
      "outputs": []
    },
    {
      "cell_type": "code",
      "source": [
        "cols_tot_rank = [col for col in raw_df.columns if '_tot' in col or '_rank' in col]\n",
        "cols_to_drop = ['G', 'GS', 'GT', 'Tm', 'FG_tot', '3PA_tot', '2PA_tot', 'FGA_rank_tot', 'Tm', 'Pos', 'Age', 'G', 'GS', 'FGA_pg', 'FG%', '3P_pg', '3PA_pg', '3P%', '2PA_pg', '2P%', 'eFG%', 'FT%', 'ORB_pg', 'DRB_pg', 'PF_pg', 'TS%', '3PAr', 'FTr', 'ORB%', 'DRB%', 'TRB%', 'AST%', 'STL%', 'BLK%', 'TOV%', 'OBPM', 'DBPM']\n",
        "cols_to_drop += cols_tot_rank\n",
        "cols_to_drop.append('Trp-Dbl') if 'Trp-Dbl' in raw_df.columns else None"
      ],
      "metadata": {
        "id": "8-zTRVLMwk4_"
      },
      "execution_count": 37,
      "outputs": []
    },
    {
      "cell_type": "code",
      "source": [
        "pipe_prep = Pipeline(steps = [\n",
        "    ('DropPlayersMultiTeams', prep.DropPlayersMultiTeams()),\n",
        "    ('SetIndex', prep.SetIndex()),\n",
        "    ('DropColumns', prep.DropColumns(cols_to_drop)),\n",
        "    ('DropPlayers', prep.DropPlayers()),\n",
        "])\n",
        "\n",
        "pre_df = pipe_prep.fit_transform(raw_df)"
      ],
      "metadata": {
        "id": "jINGMgZZwp-r"
      },
      "execution_count": 38,
      "outputs": []
    },
    {
      "cell_type": "code",
      "source": [
        "pre_df.columns"
      ],
      "metadata": {
        "colab": {
          "base_uri": "https://localhost:8080/"
        },
        "id": "0qT-PbVG3vop",
        "outputId": "0aa93697-97a7-45e0-d874-6d0673f7ceec"
      },
      "execution_count": 50,
      "outputs": [
        {
          "output_type": "execute_result",
          "data": {
            "text/plain": [
              "Index(['MP_pg', 'FG_pg', '2P_pg', 'FT_pg', 'FTA_pg', 'TRB_pg', 'AST_pg',\n",
              "       'STL_pg', 'BLK_pg', 'TOV_pg', 'PTS_pg', '%GS', 'Season', 'PER', 'USG%',\n",
              "       'OWS', 'DWS', 'WS', 'WS/48', 'BPM', 'VORP', '%W', '%G'],\n",
              "      dtype='object')"
            ]
          },
          "metadata": {},
          "execution_count": 50
        }
      ]
    },
    {
      "cell_type": "code",
      "source": [
        "models = os.listdir(models_folder)\n",
        "\n",
        "predictions_list = []\n",
        "\n",
        "for file in models:\n",
        "    with open(os.path.join(models_folder, file), 'rb') as obj:\n",
        "        file_content = obj.read()\n",
        "        model = pickle.loads(file_content)\n",
        "        prediction = model.predict(pre_df)\n",
        "        model_type = re.match('^model_(.+)\\.pkl$', os.path.basename(obj.name)).group(1)\n",
        "        prediction_series = pd.Series(prediction, index = pre_df.index, name = f'PredShare_{model_type}')\n",
        "        predictions_list.append(prediction_series)"
      ],
      "metadata": {
        "id": "ug0slLl1w9Zu"
      },
      "execution_count": 39,
      "outputs": []
    },
    {
      "cell_type": "code",
      "source": [
        "prediction_df = pd.concat(predictions_list, axis = 1)\n",
        "games_played_series = pre_df['%G']"
      ],
      "metadata": {
        "id": "iDdWUyFp1FwF"
      },
      "execution_count": 40,
      "outputs": []
    },
    {
      "cell_type": "code",
      "source": [
        "post_df = post.get_processed_prediction(prediction_df, games_played_series, num_contenders = 15, max_votes = 1000)\n",
        "post_df['Datetime'] = date.today()"
      ],
      "metadata": {
        "colab": {
          "base_uri": "https://localhost:8080/"
        },
        "id": "WSpRRf111Hjd",
        "outputId": "1d6bd8aa-8ff1-4190-f52c-9a2732d1fe2f"
      },
      "execution_count": 41,
      "outputs": [
        {
          "output_type": "stream",
          "name": "stderr",
          "text": [
            "/content/drive/MyDrive/nba-project/custom_modules/postprocessing_lib_rodrixx.py:17: FutureWarning: Setting an item of incompatible dtype is deprecated and will raise an error in a future version of pandas. Value '[0.24466662 0.21809936 0.21791425 0.18770997 0.14946628 0.11194384\n",
            " 0.10292169 0.07448129 0.07342443 0.07025608 0.05225153 0.04810936\n",
            " 0.04022973 0.03686342 0.03463839]' has dtype incompatible with int64, please explicitly cast to a compatible dtype first.\n",
            "  df_results.iloc[:num_contenders, col_index_adj] = df_results.iloc[:num_contenders, col_index_noadj]\n",
            "/content/drive/MyDrive/nba-project/custom_modules/postprocessing_lib_rodrixx.py:17: FutureWarning: Setting an item of incompatible dtype is deprecated and will raise an error in a future version of pandas. Value '[0.39494364 0.30596994 0.24382484 0.1866227  0.13756401 0.12470692\n",
            " 0.05855548 0.05632604 0.05010479 0.04339134 0.04012795 0.03930902\n",
            " 0.03812753 0.03288722 0.03239442]' has dtype incompatible with int64, please explicitly cast to a compatible dtype first.\n",
            "  df_results.iloc[:num_contenders, col_index_adj] = df_results.iloc[:num_contenders, col_index_noadj]\n",
            "/content/drive/MyDrive/nba-project/custom_modules/postprocessing_lib_rodrixx.py:17: FutureWarning: Setting an item of incompatible dtype is deprecated and will raise an error in a future version of pandas. Value '[0.2479206  0.24687503 0.18492205 0.17985237 0.15330664 0.14114062\n",
            " 0.13869916 0.12431848 0.12389711 0.12354662 0.11649648 0.11369224\n",
            " 0.10732012 0.10268358 0.09319097]' has dtype incompatible with int64, please explicitly cast to a compatible dtype first.\n",
            "  df_results.iloc[:num_contenders, col_index_adj] = df_results.iloc[:num_contenders, col_index_noadj]\n"
          ]
        }
      ]
    },
    {
      "cell_type": "code",
      "source": [
        "final_df = pd.concat([post_df, pre_df], axis = 1)\n",
        "final_df = pd.concat([final_df, pipe_prep['DropColumns'].drop_df], axis = 1)\n",
        "final_df.reset_index().drop(columns=['Season']).reset_index(drop=True)\n",
        "final_df.columns = map(post.format_column_name, final_df.columns)"
      ],
      "metadata": {
        "colab": {
          "base_uri": "https://localhost:8080/",
          "height": 339
        },
        "id": "WxmtgBVy1O1F",
        "outputId": "e78fa78f-c2ed-45da-d7a8-0f1030b32eae"
      },
      "execution_count": 42,
      "outputs": [
        {
          "output_type": "error",
          "ename": "ValueError",
          "evalue": "cannot insert Season, already exists",
          "traceback": [
            "\u001b[0;31m---------------------------------------------------------------------------\u001b[0m",
            "\u001b[0;31mValueError\u001b[0m                                Traceback (most recent call last)",
            "\u001b[0;32m<ipython-input-42-cd16acc01428>\u001b[0m in \u001b[0;36m<cell line: 3>\u001b[0;34m()\u001b[0m\n\u001b[1;32m      1\u001b[0m \u001b[0mfinal_df\u001b[0m \u001b[0;34m=\u001b[0m \u001b[0mpd\u001b[0m\u001b[0;34m.\u001b[0m\u001b[0mconcat\u001b[0m\u001b[0;34m(\u001b[0m\u001b[0;34m[\u001b[0m\u001b[0mpost_df\u001b[0m\u001b[0;34m,\u001b[0m \u001b[0mpre_df\u001b[0m\u001b[0;34m]\u001b[0m\u001b[0;34m,\u001b[0m \u001b[0maxis\u001b[0m \u001b[0;34m=\u001b[0m \u001b[0;36m1\u001b[0m\u001b[0;34m)\u001b[0m\u001b[0;34m\u001b[0m\u001b[0;34m\u001b[0m\u001b[0m\n\u001b[1;32m      2\u001b[0m \u001b[0mfinal_df\u001b[0m \u001b[0;34m=\u001b[0m \u001b[0mpd\u001b[0m\u001b[0;34m.\u001b[0m\u001b[0mconcat\u001b[0m\u001b[0;34m(\u001b[0m\u001b[0;34m[\u001b[0m\u001b[0mfinal_df\u001b[0m\u001b[0;34m,\u001b[0m \u001b[0mpipe_prep\u001b[0m\u001b[0;34m[\u001b[0m\u001b[0;34m'DropColumns'\u001b[0m\u001b[0;34m]\u001b[0m\u001b[0;34m.\u001b[0m\u001b[0mdrop_df\u001b[0m\u001b[0;34m]\u001b[0m\u001b[0;34m,\u001b[0m \u001b[0maxis\u001b[0m \u001b[0;34m=\u001b[0m \u001b[0;36m1\u001b[0m\u001b[0;34m)\u001b[0m\u001b[0;34m\u001b[0m\u001b[0;34m\u001b[0m\u001b[0m\n\u001b[0;32m----> 3\u001b[0;31m \u001b[0mfinal_df\u001b[0m\u001b[0;34m.\u001b[0m\u001b[0mreset_index\u001b[0m\u001b[0;34m(\u001b[0m\u001b[0;34m)\u001b[0m\u001b[0;34m.\u001b[0m\u001b[0mdrop\u001b[0m\u001b[0;34m(\u001b[0m\u001b[0mcolumns\u001b[0m\u001b[0;34m=\u001b[0m\u001b[0;34m[\u001b[0m\u001b[0;34m'Season'\u001b[0m\u001b[0;34m]\u001b[0m\u001b[0;34m)\u001b[0m\u001b[0;34m.\u001b[0m\u001b[0mreset_index\u001b[0m\u001b[0;34m(\u001b[0m\u001b[0mdrop\u001b[0m\u001b[0;34m=\u001b[0m\u001b[0;32mTrue\u001b[0m\u001b[0;34m)\u001b[0m\u001b[0;34m\u001b[0m\u001b[0;34m\u001b[0m\u001b[0m\n\u001b[0m\u001b[1;32m      4\u001b[0m \u001b[0mfinal_df\u001b[0m\u001b[0;34m.\u001b[0m\u001b[0mcolumns\u001b[0m \u001b[0;34m=\u001b[0m \u001b[0mmap\u001b[0m\u001b[0;34m(\u001b[0m\u001b[0mpost\u001b[0m\u001b[0;34m.\u001b[0m\u001b[0mformat_column_name\u001b[0m\u001b[0;34m,\u001b[0m \u001b[0mfinal_df\u001b[0m\u001b[0;34m.\u001b[0m\u001b[0mcolumns\u001b[0m\u001b[0;34m)\u001b[0m\u001b[0;34m\u001b[0m\u001b[0;34m\u001b[0m\u001b[0m\n",
            "\u001b[0;32m/usr/local/lib/python3.10/dist-packages/pandas/core/frame.py\u001b[0m in \u001b[0;36mreset_index\u001b[0;34m(self, level, drop, inplace, col_level, col_fill, allow_duplicates, names)\u001b[0m\n\u001b[1;32m   6470\u001b[0m                     )\n\u001b[1;32m   6471\u001b[0m \u001b[0;34m\u001b[0m\u001b[0m\n\u001b[0;32m-> 6472\u001b[0;31m                 new_obj.insert(\n\u001b[0m\u001b[1;32m   6473\u001b[0m                     \u001b[0;36m0\u001b[0m\u001b[0;34m,\u001b[0m\u001b[0;34m\u001b[0m\u001b[0;34m\u001b[0m\u001b[0m\n\u001b[1;32m   6474\u001b[0m                     \u001b[0mname\u001b[0m\u001b[0;34m,\u001b[0m\u001b[0;34m\u001b[0m\u001b[0;34m\u001b[0m\u001b[0m\n",
            "\u001b[0;32m/usr/local/lib/python3.10/dist-packages/pandas/core/frame.py\u001b[0m in \u001b[0;36minsert\u001b[0;34m(self, loc, column, value, allow_duplicates)\u001b[0m\n\u001b[1;32m   5156\u001b[0m         \u001b[0;32mif\u001b[0m \u001b[0;32mnot\u001b[0m \u001b[0mallow_duplicates\u001b[0m \u001b[0;32mand\u001b[0m \u001b[0mcolumn\u001b[0m \u001b[0;32min\u001b[0m \u001b[0mself\u001b[0m\u001b[0;34m.\u001b[0m\u001b[0mcolumns\u001b[0m\u001b[0;34m:\u001b[0m\u001b[0;34m\u001b[0m\u001b[0;34m\u001b[0m\u001b[0m\n\u001b[1;32m   5157\u001b[0m             \u001b[0;31m# Should this be a different kind of error??\u001b[0m\u001b[0;34m\u001b[0m\u001b[0;34m\u001b[0m\u001b[0m\n\u001b[0;32m-> 5158\u001b[0;31m             \u001b[0;32mraise\u001b[0m \u001b[0mValueError\u001b[0m\u001b[0;34m(\u001b[0m\u001b[0;34mf\"cannot insert {column}, already exists\"\u001b[0m\u001b[0;34m)\u001b[0m\u001b[0;34m\u001b[0m\u001b[0;34m\u001b[0m\u001b[0m\n\u001b[0m\u001b[1;32m   5159\u001b[0m         \u001b[0;32mif\u001b[0m \u001b[0;32mnot\u001b[0m \u001b[0mis_integer\u001b[0m\u001b[0;34m(\u001b[0m\u001b[0mloc\u001b[0m\u001b[0;34m)\u001b[0m\u001b[0;34m:\u001b[0m\u001b[0;34m\u001b[0m\u001b[0;34m\u001b[0m\u001b[0m\n\u001b[1;32m   5160\u001b[0m             \u001b[0;32mraise\u001b[0m \u001b[0mTypeError\u001b[0m\u001b[0;34m(\u001b[0m\u001b[0;34m\"loc must be int\"\u001b[0m\u001b[0;34m)\u001b[0m\u001b[0;34m\u001b[0m\u001b[0;34m\u001b[0m\u001b[0m\n",
            "\u001b[0;31mValueError\u001b[0m: cannot insert Season, already exists"
          ]
        }
      ]
    },
    {
      "cell_type": "code",
      "source": [
        "list(final_df.columns)"
      ],
      "metadata": {
        "colab": {
          "base_uri": "https://localhost:8080/"
        },
        "id": "ZKZw4OOW3K-a",
        "outputId": "ab848618-b726-446e-d836-f7d29c17a499"
      },
      "execution_count": 48,
      "outputs": [
        {
          "output_type": "execute_result",
          "data": {
            "text/plain": [
              "['%G',\n",
              " 'PredShare_xgbv2',\n",
              " 'PredShare_lgbmv2',\n",
              " 'PredShare_rfv2',\n",
              " 'PredShare_xgbv2_Adj',\n",
              " 'PredVotes_xgbv2',\n",
              " 'PredRank_xgbv2',\n",
              " 'PredShare_lgbmv2_Adj',\n",
              " 'PredVotes_lgbmv2',\n",
              " 'PredRank_lgbmv2',\n",
              " 'PredShare_rfv2_Adj',\n",
              " 'PredVotes_rfv2',\n",
              " 'PredRank_rfv2',\n",
              " 'Datetime',\n",
              " 'MP_pg',\n",
              " 'FG_pg',\n",
              " '2P_pg',\n",
              " 'FT_pg',\n",
              " 'FTA_pg',\n",
              " 'TRB_pg',\n",
              " 'AST_pg',\n",
              " 'STL_pg',\n",
              " 'BLK_pg',\n",
              " 'TOV_pg',\n",
              " 'PTS_pg',\n",
              " '%GS',\n",
              " 'Season',\n",
              " 'PER',\n",
              " 'USG%',\n",
              " 'OWS',\n",
              " 'DWS',\n",
              " 'WS',\n",
              " 'WS/48',\n",
              " 'BPM',\n",
              " 'VORP',\n",
              " '%W',\n",
              " '%G',\n",
              " 'G',\n",
              " 'GS',\n",
              " 'GT',\n",
              " 'Tm',\n",
              " 'FG_tot',\n",
              " '3PA_tot',\n",
              " '2PA_tot',\n",
              " 'FGA_rank_tot',\n",
              " 'Tm',\n",
              " 'Pos',\n",
              " 'Age',\n",
              " 'G',\n",
              " 'GS',\n",
              " 'FGA_pg',\n",
              " 'FG%',\n",
              " '3P_pg',\n",
              " '3PA_pg',\n",
              " '3P%',\n",
              " '2PA_pg',\n",
              " '2P%',\n",
              " 'eFG%',\n",
              " 'FT%',\n",
              " 'ORB_pg',\n",
              " 'DRB_pg',\n",
              " 'PF_pg',\n",
              " 'TS%',\n",
              " '3PAr',\n",
              " 'FTr',\n",
              " 'ORB%',\n",
              " 'DRB%',\n",
              " 'TRB%',\n",
              " 'AST%',\n",
              " 'STL%',\n",
              " 'BLK%',\n",
              " 'TOV%',\n",
              " 'OBPM',\n",
              " 'DBPM',\n",
              " 'MP_rank_pg',\n",
              " 'FG_rank_pg',\n",
              " 'FGA_rank_pg',\n",
              " 'FG%_rank',\n",
              " '3P_rank_pg',\n",
              " '3PA_rank_pg',\n",
              " '3P%_rank',\n",
              " '2P_rank_pg',\n",
              " '2PA_rank_pg',\n",
              " '2P%_rank',\n",
              " 'eFG%_rank',\n",
              " 'FT_rank_pg',\n",
              " 'FTA_rank_pg',\n",
              " 'FT%_rank',\n",
              " 'ORB_rank_pg',\n",
              " 'DRB_rank_pg',\n",
              " 'TRB_rank_pg',\n",
              " 'AST_rank_pg',\n",
              " 'STL_rank_pg',\n",
              " 'BLK_rank_pg',\n",
              " 'TOV_rank_pg',\n",
              " 'PF_rank_pg',\n",
              " 'PTS_rank_pg',\n",
              " 'MP_tot',\n",
              " 'FG_tot',\n",
              " 'FGA_tot',\n",
              " '3P_tot',\n",
              " '3PA_tot',\n",
              " '2P_tot',\n",
              " '2PA_tot',\n",
              " 'FT_tot',\n",
              " 'FTA_tot',\n",
              " 'ORB_tot',\n",
              " 'DRB_tot',\n",
              " 'TRB_tot',\n",
              " 'AST_tot',\n",
              " 'STL_tot',\n",
              " 'BLK_tot',\n",
              " 'TOV_tot',\n",
              " 'PF_tot',\n",
              " 'PTS_tot',\n",
              " 'MP_rank_tot',\n",
              " 'FG_rank_tot',\n",
              " 'FGA_rank_tot',\n",
              " '3P_rank_tot',\n",
              " '3PA_rank_tot',\n",
              " '2P_rank_tot',\n",
              " '2PA_rank_tot',\n",
              " 'FT_rank_tot',\n",
              " 'FTA_rank_tot',\n",
              " 'ORB_rank_tot',\n",
              " 'DRB_rank_tot',\n",
              " 'TRB_rank_tot',\n",
              " 'AST_rank_tot',\n",
              " 'STL_rank_tot',\n",
              " 'BLK_rank_tot',\n",
              " 'TOV_rank_tot',\n",
              " 'PF_rank_tot',\n",
              " 'PTS_rank_tot',\n",
              " 'Trp-Dbl_rank',\n",
              " 'PER_rank',\n",
              " 'TS%_rank',\n",
              " '3PAr_rank',\n",
              " 'FTr_rank',\n",
              " 'ORB%_rank',\n",
              " 'DRB%_rank',\n",
              " 'TRB%_rank',\n",
              " 'AST%_rank',\n",
              " 'STL%_rank',\n",
              " 'BLK%_rank',\n",
              " 'TOV%_rank',\n",
              " 'USG%_rank',\n",
              " 'OWS_rank',\n",
              " 'DWS_rank',\n",
              " 'WS_rank',\n",
              " 'WS/48_rank',\n",
              " 'OBPM_rank',\n",
              " 'DBPM_rank',\n",
              " 'BPM_rank',\n",
              " 'VORP_rank',\n",
              " '%W_rank',\n",
              " 'Trp-Dbl']"
            ]
          },
          "metadata": {},
          "execution_count": 48
        }
      ]
    }
  ]
}